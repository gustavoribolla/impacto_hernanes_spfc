{
 "cells": [
  {
   "cell_type": "markdown",
   "metadata": {},
   "source": [
    "IMPORTAÇÕES DE BIBLIOTECAS"
   ]
  },
  {
   "cell_type": "code",
   "execution_count": 10,
   "metadata": {},
   "outputs": [],
   "source": [
    "import pandas as pd"
   ]
  },
  {
   "cell_type": "markdown",
   "metadata": {},
   "source": [
    "LENDO O CSV DAS TABELAS DO BRASILEIRÃO DE 2003 A 2O22"
   ]
  },
  {
   "cell_type": "code",
   "execution_count": 11,
   "metadata": {},
   "outputs": [],
   "source": [
    "df_br = pd.read_csv('Dados/campeonato-brasileiro-full.csv')"
   ]
  },
  {
   "cell_type": "markdown",
   "metadata": {},
   "source": [
    "CRIANDO E ORGANIZANDO UM DATAFRAME APENAS COM OS JOGOS DO SÃO PAULO EM 2017 "
   ]
  },
  {
   "cell_type": "code",
   "execution_count": 12,
   "metadata": {},
   "outputs": [],
   "source": [
    "df_br['data'] = pd.to_datetime(df_br['data'], dayfirst=True)\n",
    "\n",
    "def determinar_vencedor(win):\n",
    "    if win['mandante_Placar'] > win['visitante_Placar']:\n",
    "        return win['mandante']\n",
    "    elif win['mandante_Placar'] < win['visitante_Placar']:\n",
    "        return win['visitante']\n",
    "    else:\n",
    "        return 'Empate'\n",
    "\n",
    "def pontuação_sp(row):\n",
    "    pontos_sao_paulo = 0\n",
    "    if row['resultado'] == 'Sao Paulo':\n",
    "        pontos_sao_paulo += 3\n",
    "    elif row['resultado'] == 'Empate':\n",
    "        pontos_sao_paulo += 1\n",
    "    return pontos_sao_paulo\n",
    "\n",
    "colunas_filtros = ['rodata', 'mandante', 'visitante', 'mandante_Placar', 'visitante_Placar', 'resultado', 'pontos']"
   ]
  },
  {
   "cell_type": "markdown",
   "metadata": {},
   "source": [
    "CRIANDO UM DATA FRAME COM OS JOGOS PRÉ HERNANES"
   ]
  },
  {
   "cell_type": "code",
   "execution_count": 13,
   "metadata": {},
   "outputs": [
    {
     "name": "stdout",
     "output_type": "stream",
     "text": [
      "Jogos Antes de Hernanes:\n",
      " rodata     mandante   visitante  mandante_Placar  visitante_Placar    resultado  pontos  soma_pontos_antes_hernanes  total_pontos_possiveis_antes_hernanes\n",
      "      1     Cruzeiro   Sao Paulo                1                 0     Cruzeiro       0                           0                                      0\n",
      "      2    Sao Paulo        Avai                2                 0    Sao Paulo       3                           3                                      3\n",
      "      3    Sao Paulo   Palmeiras                2                 0    Sao Paulo       3                           6                                      6\n",
      "      4  Ponte Preta   Sao Paulo                1                 0  Ponte Preta       0                           6                                      9\n",
      "      5    Sao Paulo     Vitoria                2                 0    Sao Paulo       3                           9                                     12\n",
      "      6  Corinthians   Sao Paulo                3                 2  Corinthians       0                           9                                     15\n",
      "      7        Sport   Sao Paulo                0                 0       Empate       1                          10                                     18\n",
      "      8    Sao Paulo Atletico-MG                1                 2  Atletico-MG       0                          10                                     21\n",
      "      9 Athletico-PR   Sao Paulo                1                 0 Athletico-PR       0                          10                                     24\n",
      "     10    Sao Paulo  Fluminense                1                 1       Empate       1                          11                                     27\n",
      "     11     Flamengo   Sao Paulo                2                 0     Flamengo       0                          11                                     30\n",
      "     12       Santos   Sao Paulo                3                 2       Santos       0                          11                                     33\n",
      "     13    Sao Paulo Atletico-GO                2                 2       Empate       1                          12                                     36\n",
      "     14  Chapecoense   Sao Paulo                2                 0  Chapecoense       0                          12                                     39\n",
      "     15    Sao Paulo       Vasco                1                 0    Sao Paulo       3                          15                                     42\n",
      "     16    Sao Paulo      Gremio                1                 1       Empate       1                          16                                     45\n"
     ]
    }
   ],
   "source": [
    "jogos_antes_hernanes = df_br[(df_br['data'].dt.year == 2017) & (df_br['rodata'] <= 16)].copy()  \n",
    "jogos_sao_paulo_antes_hernanes = jogos_antes_hernanes[(jogos_antes_hernanes['mandante'] == 'Sao Paulo') | (jogos_antes_hernanes['visitante'] == 'Sao Paulo')].copy()  \n",
    "jogos_sao_paulo_antes_hernanes['resultado'] = jogos_sao_paulo_antes_hernanes.apply(determinar_vencedor, axis=1)\n",
    "jogos_sao_paulo_antes_hernanes['pontos'] = jogos_sao_paulo_antes_hernanes.apply(pontuação_sp, axis=1)\n",
    "jogos_sao_paulo_antes_hernanes = jogos_sao_paulo_antes_hernanes.loc[:, colunas_filtros].copy()  \n",
    "\n",
    "jogos_sao_paulo_antes_hernanes['soma_pontos_antes_hernanes'] = jogos_sao_paulo_antes_hernanes['pontos'].cumsum()\n",
    "\n",
    "jogos_sao_paulo_antes_hernanes['total_pontos_possiveis_antes_hernanes'] = (jogos_sao_paulo_antes_hernanes['rodata'] - 1) * 3\n",
    "\n",
    "print(\"Jogos Antes de Hernanes:\")\n",
    "print(jogos_sao_paulo_antes_hernanes.to_string(index=False))\n",
    "\n",
    "\n",
    "\n"
   ]
  },
  {
   "cell_type": "markdown",
   "metadata": {},
   "source": [
    "CRIANDO UM DATAFRAME COM OS JOGOS PÓS HERNANES"
   ]
  },
  {
   "cell_type": "code",
   "execution_count": 14,
   "metadata": {},
   "outputs": [
    {
     "name": "stdout",
     "output_type": "stream",
     "text": [
      "\n",
      "Jogos Depois de Hernanes:\n",
      " rodata    mandante    visitante  mandante_Placar  visitante_Placar   resultado  pontos  soma_pontos_depois_hernanes  total_pontos_possiveis_depois_hernanes\n",
      "     17 Botafogo-RJ    Sao Paulo                3                 4   Sao Paulo       3                            3                                       3\n",
      "     18   Sao Paulo     Coritiba                1                 2    Coritiba       0                            3                                       6\n",
      "     19       Bahia    Sao Paulo                2                 1       Bahia       0                            3                                       9\n",
      "     20   Sao Paulo     Cruzeiro                3                 2   Sao Paulo       3                            6                                      12\n",
      "     21        Avai    Sao Paulo                1                 1      Empate       1                            7                                      15\n",
      "     22   Palmeiras    Sao Paulo                4                 2   Palmeiras       0                            7                                      18\n",
      "     23   Sao Paulo  Ponte Preta                2                 2      Empate       1                            8                                      21\n",
      "     24     Vitoria    Sao Paulo                1                 2   Sao Paulo       3                           11                                      24\n",
      "     25   Sao Paulo  Corinthians                1                 1      Empate       1                           12                                      27\n",
      "     26   Sao Paulo        Sport                1                 0   Sao Paulo       3                           15                                      30\n",
      "     27 Atletico-MG    Sao Paulo                1                 0 Atletico-MG       0                           15                                      33\n",
      "     28   Sao Paulo Athletico-PR                2                 1   Sao Paulo       3                           18                                      36\n",
      "     29  Fluminense    Sao Paulo                3                 1  Fluminense       0                           18                                      39\n",
      "     30   Sao Paulo     Flamengo                2                 0   Sao Paulo       3                           21                                      42\n",
      "     31   Sao Paulo       Santos                2                 1   Sao Paulo       3                           24                                      45\n",
      "     32 Atletico-GO    Sao Paulo                0                 1   Sao Paulo       3                           27                                      48\n",
      "     33   Sao Paulo  Chapecoense                2                 2      Empate       1                           28                                      51\n",
      "     34       Vasco    Sao Paulo                1                 1      Empate       1                           29                                      54\n",
      "     35      Gremio    Sao Paulo                1                 0      Gremio       0                           29                                      57\n",
      "     36   Sao Paulo  Botafogo-RJ                0                 0      Empate       1                           30                                      60\n",
      "     37    Coritiba    Sao Paulo                1                 2   Sao Paulo       3                           33                                      63\n",
      "     38   Sao Paulo        Bahia                1                 1      Empate       1                           34                                      66\n"
     ]
    }
   ],
   "source": [
    "jogos_depois_hernanes = df_br[(df_br['data'].dt.year == 2017) & (df_br['rodata'] >= 17)].copy()  \n",
    "jogos_sao_paulo_depois_hernanes = jogos_depois_hernanes[(jogos_depois_hernanes['mandante'] == 'Sao Paulo') | (jogos_depois_hernanes['visitante'] == 'Sao Paulo')].copy()  \n",
    "jogos_sao_paulo_depois_hernanes['resultado'] = jogos_sao_paulo_depois_hernanes.apply(determinar_vencedor, axis=1)\n",
    "jogos_sao_paulo_depois_hernanes['pontos'] = jogos_sao_paulo_depois_hernanes.apply(pontuação_sp, axis=1)\n",
    "jogos_sao_paulo_depois_hernanes = jogos_sao_paulo_depois_hernanes.loc[:, colunas_filtros].copy()  \n",
    "\n",
    "jogos_sao_paulo_depois_hernanes['soma_pontos_depois_hernanes'] = jogos_sao_paulo_depois_hernanes['pontos'].cumsum()\n",
    "\n",
    "jogos_sao_paulo_depois_hernanes['total_pontos_possiveis_depois_hernanes'] = (jogos_sao_paulo_depois_hernanes['rodata'] - 16) * 3\n",
    "\n",
    "print(\"\\nJogos Depois de Hernanes:\")\n",
    "print(jogos_sao_paulo_depois_hernanes.to_string(index=False))\n"
   ]
  }
 ],
 "metadata": {
  "kernelspec": {
   "display_name": "Python 3",
   "language": "python",
   "name": "python3"
  },
  "language_info": {
   "codemirror_mode": {
    "name": "ipython",
    "version": 3
   },
   "file_extension": ".py",
   "mimetype": "text/x-python",
   "name": "python",
   "nbconvert_exporter": "python",
   "pygments_lexer": "ipython3",
   "version": "3.11.4"
  }
 },
 "nbformat": 4,
 "nbformat_minor": 2
}
