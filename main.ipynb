{
 "cells": [
  {
   "cell_type": "code",
   "execution_count": 16,
   "metadata": {},
   "outputs": [
    {
     "name": "stdout",
     "output_type": "stream",
     "text": [
      " rodata     mandante    visitante  mandante_Placar  visitante_Placar    resultado\n",
      "      1     Cruzeiro    Sao Paulo                1                 0     Cruzeiro\n",
      "      2    Sao Paulo         Avai                2                 0    Sao Paulo\n",
      "      3    Sao Paulo    Palmeiras                2                 0    Sao Paulo\n",
      "      4  Ponte Preta    Sao Paulo                1                 0  Ponte Preta\n",
      "      5    Sao Paulo      Vitoria                2                 0    Sao Paulo\n",
      "      6  Corinthians    Sao Paulo                3                 2  Corinthians\n",
      "      7        Sport    Sao Paulo                0                 0       Empate\n",
      "      8    Sao Paulo  Atletico-MG                1                 2  Atletico-MG\n",
      "      9 Athletico-PR    Sao Paulo                1                 0 Athletico-PR\n",
      "     10    Sao Paulo   Fluminense                1                 1       Empate\n",
      "     11     Flamengo    Sao Paulo                2                 0     Flamengo\n",
      "     12       Santos    Sao Paulo                3                 2       Santos\n",
      "     13    Sao Paulo  Atletico-GO                2                 2       Empate\n",
      "     14  Chapecoense    Sao Paulo                2                 0  Chapecoense\n",
      "     15    Sao Paulo        Vasco                1                 0    Sao Paulo\n",
      "     16    Sao Paulo       Gremio                1                 1       Empate\n",
      "     17  Botafogo-RJ    Sao Paulo                3                 4    Sao Paulo\n",
      "     18    Sao Paulo     Coritiba                1                 2     Coritiba\n",
      "     19        Bahia    Sao Paulo                2                 1        Bahia\n",
      "     20    Sao Paulo     Cruzeiro                3                 2    Sao Paulo\n",
      "     21         Avai    Sao Paulo                1                 1       Empate\n",
      "     22    Palmeiras    Sao Paulo                4                 2    Palmeiras\n",
      "     23    Sao Paulo  Ponte Preta                2                 2       Empate\n",
      "     24      Vitoria    Sao Paulo                1                 2    Sao Paulo\n",
      "     25    Sao Paulo  Corinthians                1                 1       Empate\n",
      "     26    Sao Paulo        Sport                1                 0    Sao Paulo\n",
      "     27  Atletico-MG    Sao Paulo                1                 0  Atletico-MG\n",
      "     28    Sao Paulo Athletico-PR                2                 1    Sao Paulo\n",
      "     29   Fluminense    Sao Paulo                3                 1   Fluminense\n",
      "     30    Sao Paulo     Flamengo                2                 0    Sao Paulo\n",
      "     31    Sao Paulo       Santos                2                 1    Sao Paulo\n",
      "     32  Atletico-GO    Sao Paulo                0                 1    Sao Paulo\n",
      "     33    Sao Paulo  Chapecoense                2                 2       Empate\n",
      "     34        Vasco    Sao Paulo                1                 1       Empate\n",
      "     35       Gremio    Sao Paulo                1                 0       Gremio\n",
      "     36    Sao Paulo  Botafogo-RJ                0                 0       Empate\n",
      "     37     Coritiba    Sao Paulo                1                 2    Sao Paulo\n",
      "     38    Sao Paulo        Bahia                1                 1       Empate\n"
     ]
    },
    {
     "name": "stderr",
     "output_type": "stream",
     "text": [
      "C:\\Users\\ugoma\\AppData\\Local\\Temp\\ipykernel_16792\\752986191.py:19: SettingWithCopyWarning: \n",
      "A value is trying to be set on a copy of a slice from a DataFrame.\n",
      "Try using .loc[row_indexer,col_indexer] = value instead\n",
      "\n",
      "See the caveats in the documentation: https://pandas.pydata.org/pandas-docs/stable/user_guide/indexing.html#returning-a-view-versus-a-copy\n",
      "  jogos_sao_paulo_2017['resultado'] = jogos_sao_paulo_2017.apply(determinar_vencedor, axis=1)\n"
     ]
    }
   ],
   "source": [
    "import pandas as pd\n",
    "\n",
    "df_br = pd.read_csv('Dados/campeonato-brasileiro-full.csv')\n",
    "\n",
    "df_br['data'] = pd.to_datetime(df_br['data'], dayfirst=True)  \n",
    "\n",
    "jogos_2017 = df_br[df_br['data'].dt.year == 2017]\n",
    "\n",
    "jogos_sao_paulo_2017 = jogos_2017[(jogos_2017['mandante'] == 'Sao Paulo') | (jogos_2017['visitante'] == 'Sao Paulo')]\n",
    "\n",
    "def determinar_vencedor(win):\n",
    "    if win['mandante_Placar'] > win['visitante_Placar']:\n",
    "        return win['mandante']\n",
    "    elif win['mandante_Placar'] < win['visitante_Placar']:\n",
    "        return win['visitante']\n",
    "    else:\n",
    "        return 'Empate'\n",
    "\n",
    "jogos_sao_paulo_2017['resultado'] = jogos_sao_paulo_2017.apply(determinar_vencedor, axis=1)\n",
    "\n",
    "colunas_filtros = ['rodata', 'mandante', 'visitante', 'mandante_Placar', 'visitante_Placar', 'resultado']\n",
    "\n",
    "print(jogos_sao_paulo_2017[colunas_filtros].to_string(index=False))\n"
   ]
  }
 ],
 "metadata": {
  "kernelspec": {
   "display_name": "Python 3",
   "language": "python",
   "name": "python3"
  },
  "language_info": {
   "codemirror_mode": {
    "name": "ipython",
    "version": 3
   },
   "file_extension": ".py",
   "mimetype": "text/x-python",
   "name": "python",
   "nbconvert_exporter": "python",
   "pygments_lexer": "ipython3",
   "version": "3.11.4"
  }
 },
 "nbformat": 4,
 "nbformat_minor": 2
}
